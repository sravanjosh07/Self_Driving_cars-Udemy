{
  "nbformat": 4,
  "nbformat_minor": 0,
  "metadata": {
    "colab": {
      "name": "Untitled0.ipynb",
      "provenance": [],
      "authorship_tag": "ABX9TyN9gFTybKXO1Hi74Q+h7OQ9",
      "include_colab_link": true
    },
    "kernelspec": {
      "name": "python3",
      "display_name": "Python 3"
    }
  },
  "cells": [
    {
      "cell_type": "markdown",
      "metadata": {
        "id": "view-in-github",
        "colab_type": "text"
      },
      "source": [
        "<a href=\"https://colab.research.google.com/github/sravanjosh07/Self_Driving_cars-Udemy/blob/master/multiclass_classification_CNN.ipynb\" target=\"_parent\"><img src=\"https://colab.research.google.com/assets/colab-badge.svg\" alt=\"Open In Colab\"/></a>"
      ]
    },
    {
      "cell_type": "code",
      "metadata": {
        "id": "UVzLh5K3bTao"
      },
      "source": [
        "import numpy as np\n",
        "import keras\n",
        "import matplotlib.pyplot as plt\n",
        "from sklearn import datasets\n",
        "from keras.models import Sequential\n",
        "from keras.optimizers import Adam\n",
        "from keras.layers import Dense\n",
        "from keras.utils.np_utils import to_categorical\n"
      ],
      "execution_count": 12,
      "outputs": []
    },
    {
      "cell_type": "code",
      "metadata": {
        "id": "bF-MzRKNb20F"
      },
      "source": [
        "n_pts = 500\n",
        "center = [[-1,1], [-1,-1], [1,-1], [1,1], [0,0]]\n",
        "X, y = datasets.make_blobs(n_samples= n_pts, centers = center, cluster_std= 0.4, random_state= 3, )\n"
      ],
      "execution_count": 13,
      "outputs": []
    },
    {
      "cell_type": "code",
      "metadata": {
        "colab": {
          "base_uri": "https://localhost:8080/",
          "height": 282
        },
        "id": "HDU8V_l-c5Yp",
        "outputId": "4db0c8ff-ffae-4dc8-838b-1b9ed5339cbc"
      },
      "source": [
        "plt.scatter(X[y==0, 0], X[y==0, 1])\n",
        "plt.scatter(X[y==1, 0], X[y==1, 1])\n",
        "plt.scatter(X[y==2, 0], X[y==2, 1])\n",
        "plt.scatter(X[y==3, 0], X[y==3, 1])\n",
        "plt.scatter(X[y==4, 0], X[y==4, 1])"
      ],
      "execution_count": 14,
      "outputs": [
        {
          "output_type": "execute_result",
          "data": {
            "text/plain": [
              "<matplotlib.collections.PathCollection at 0x7fc68f9d2198>"
            ]
          },
          "metadata": {
            "tags": []
          },
          "execution_count": 14
        },
        {
          "output_type": "display_data",
          "data": {
            "image/png": "[encoded data removed]",
            "text/plain": [
              "<Figure size 432x288 with 1 Axes>"
            ]
          },
          "metadata": {
            "tags": [],
            "needs_background": "light"
          }
        }
      ]
    },
    {
      "cell_type": "code",
      "metadata": {
        "colab": {
          "base_uri": "https://localhost:8080/"
        },
        "id": "SVidhtmCz27Y",
        "outputId": "ca97ff85-7895-4823-dcf7-80943866c5f9"
      },
      "source": [
        "print(y)\n",
        "y_cat = to_categorical(y,5)\n",
        "print(y_cat)\n",
        "\n"
      ],
      "execution_count": 15,
      "outputs": [
        {
          "output_type": "stream",
          "text": [
            "[1 0 2 0 2 1 3 2 1 4 2 3 3 2 2 1 3 0 3 1 2 0 1 1 4 0 2 4 4 0 3 2 3 3 4 2 2\n",
            " 3 0 4 1 4 1 0 2 2 2 1 3 3 3 0 2 1 2 1 2 4 1 3 0 1 2 3 3 0 4 0 4 2 4 0 0 4\n",
            " 0 2 1 4 1 2 2 3 0 1 0 1 0 2 4 3 0 0 1 3 4 1 4 1 2 1 2 3 3 0 1 1 0 4 4 1 4\n",
            " 3 0 2 2 3 1 4 3 4 3 2 1 1 2 4 2 2 1 4 1 3 3 0 1 3 4 3 4 4 2 1 3 3 1 4 2 0\n",
            " 0 4 1 1 0 3 4 0 2 0 3 0 0 0 4 3 0 2 0 4 2 1 4 1 3 2 0 4 3 0 2 1 2 0 4 4 2\n",
            " 3 0 1 4 4 3 4 0 0 3 2 4 3 2 2 3 4 3 0 1 4 3 3 4 1 4 3 0 3 1 3 1 2 0 1 1 3\n",
            " 0 3 0 1 2 1 0 0 2 3 3 1 1 0 0 3 4 2 4 3 4 2 4 3 4 2 0 2 3 0 2 3 4 1 2 2 2\n",
            " 4 4 4 1 0 0 4 1 1 3 1 4 1 2 2 3 3 0 3 3 2 0 3 1 0 1 4 1 1 2 3 0 2 0 0 3 3\n",
            " 0 1 0 4 3 3 1 2 0 3 4 0 1 4 2 3 4 0 4 1 1 0 0 0 3 3 0 3 4 1 1 4 2 2 1 1 3\n",
            " 0 0 0 3 4 2 3 4 0 2 2 1 0 0 4 4 4 1 1 1 4 4 3 0 1 4 3 2 3 2 3 3 4 4 2 0 2\n",
            " 1 3 3 2 2 0 2 0 4 1 2 4 3 2 1 0 4 3 3 3 4 2 0 2 2 2 4 0 1 2 1 1 4 1 3 1 3\n",
            " 2 0 0 3 2 3 0 1 2 1 4 4 2 4 1 4 2 4 1 4 3 0 0 4 0 2 0 0 4 3 3 1 0 1 4 2 1\n",
            " 2 3 0 1 3 1 3 3 0 3 0 2 2 1 3 3 4 4 2 4 2 4 2 2 2 1 0 4 1 2 1 1 4 1 4 0 0\n",
            " 4 2 1 2 4 0 2 4 2 4 0 4 4 1 3 1 0 1 0]\n",
            "[[0. 1. 0. 0. 0.]\n",
            " [1. 0. 0. 0. 0.]\n",
            " [0. 0. 1. 0. 0.]\n",
            " ...\n",
            " [1. 0. 0. 0. 0.]\n",
            " [0. 1. 0. 0. 0.]\n",
            " [1. 0. 0. 0. 0.]]\n"
          ],
          "name": "stdout"
        }
      ]
    },
    {
      "cell_type": "code",
      "metadata": {
        "id": "jxk_f7UfdOOQ"
      },
      "source": [
        "model = Sequential()\n",
        "model.add(Dense(5, input_shape = (2,), activation= 'softmax'))\n",
        "model.compile(Adam(lr=0.1), 'categorical_crossentropy', metrics = ['accuracy'])\n"
      ],
      "execution_count": 16,
      "outputs": []
    },
    {
      "cell_type": "code",
      "metadata": {
        "colab": {
          "base_uri": "https://localhost:8080/"
        },
        "id": "x1p7QGRAd3OR",
        "outputId": "fcf8ff1b-63f6-4bcf-ed15-c6ae7c496771"
      },
      "source": [
        "h = model.fit(X,y_cat, verbose= 1, epochs=100, batch_size=50)"
      ],
      "execution_count": 17,
      "outputs": [
        {
          "output_type": "stream",
          "text": [
            "Epoch 1/100\n",
            "10/10 [==============================] - 0s 1ms/step - loss: 1.2590 - accuracy: 0.4734\n",
            "Epoch 2/100\n",
            "10/10 [==============================] - 0s 1ms/step - loss: 0.6178 - accuracy: 0.8369\n",
            "Epoch 3/100\n",
            "10/10 [==============================] - 0s 1ms/step - loss: 0.4025 - accuracy: 0.9282\n",
            "Epoch 4/100\n",
            "10/10 [==============================] - 0s 1ms/step - loss: 0.3230 - accuracy: 0.9362\n",
            "Epoch 5/100\n",
            "10/10 [==============================] - 0s 1ms/step - loss: 0.2884 - accuracy: 0.9360\n",
            "Epoch 6/100\n",
            "10/10 [==============================] - 0s 1ms/step - loss: 0.2484 - accuracy: 0.9459\n",
            "Epoch 7/100\n",
            "10/10 [==============================] - 0s 1ms/step - loss: 0.2199 - accuracy: 0.9542\n",
            "Epoch 8/100\n",
            "10/10 [==============================] - 0s 1ms/step - loss: 0.2471 - accuracy: 0.9306\n",
            "Epoch 9/100\n",
            "10/10 [==============================] - 0s 2ms/step - loss: 0.2118 - accuracy: 0.9511\n",
            "Epoch 10/100\n",
            "10/10 [==============================] - 0s 2ms/step - loss: 0.2067 - accuracy: 0.9557\n",
            "Epoch 11/100\n",
            "10/10 [==============================] - 0s 2ms/step - loss: 0.1915 - accuracy: 0.9395\n",
            "Epoch 12/100\n",
            "10/10 [==============================] - 0s 1ms/step - loss: 0.2036 - accuracy: 0.9405\n",
            "Epoch 13/100\n",
            "10/10 [==============================] - 0s 1ms/step - loss: 0.1966 - accuracy: 0.9472\n",
            "Epoch 14/100\n",
            "10/10 [==============================] - 0s 1ms/step - loss: 0.1978 - accuracy: 0.9439\n",
            "Epoch 15/100\n",
            "10/10 [==============================] - 0s 1ms/step - loss: 0.1862 - accuracy: 0.9517\n",
            "Epoch 16/100\n",
            "10/10 [==============================] - 0s 1ms/step - loss: 0.1930 - accuracy: 0.9479\n",
            "Epoch 17/100\n",
            "10/10 [==============================] - 0s 1ms/step - loss: 0.1834 - accuracy: 0.9480\n",
            "Epoch 18/100\n",
            "10/10 [==============================] - 0s 1ms/step - loss: 0.1766 - accuracy: 0.9522\n",
            "Epoch 19/100\n",
            "10/10 [==============================] - 0s 1ms/step - loss: 0.1881 - accuracy: 0.9452\n",
            "Epoch 20/100\n",
            "10/10 [==============================] - 0s 2ms/step - loss: 0.1619 - accuracy: 0.9510\n",
            "Epoch 21/100\n",
            "10/10 [==============================] - 0s 2ms/step - loss: 0.1753 - accuracy: 0.9500\n",
            "Epoch 22/100\n",
            "10/10 [==============================] - 0s 2ms/step - loss: 0.1763 - accuracy: 0.9420\n",
            "Epoch 23/100\n",
            "10/10 [==============================] - 0s 1ms/step - loss: 0.1889 - accuracy: 0.9450\n",
            "Epoch 24/100\n",
            "10/10 [==============================] - 0s 1ms/step - loss: 0.1774 - accuracy: 0.9412\n",
            "Epoch 25/100\n",
            "10/10 [==============================] - 0s 2ms/step - loss: 0.1418 - accuracy: 0.9621\n",
            "Epoch 26/100\n",
            "10/10 [==============================] - 0s 1ms/step - loss: 0.1773 - accuracy: 0.9387\n",
            "Epoch 27/100\n",
            "10/10 [==============================] - 0s 1ms/step - loss: 0.1574 - accuracy: 0.9408\n",
            "Epoch 28/100\n",
            "10/10 [==============================] - 0s 1ms/step - loss: 0.1560 - accuracy: 0.9427\n",
            "Epoch 29/100\n",
            "10/10 [==============================] - 0s 1ms/step - loss: 0.1685 - accuracy: 0.9514\n",
            "Epoch 30/100\n",
            "10/10 [==============================] - 0s 1ms/step - loss: 0.1552 - accuracy: 0.9536\n",
            "Epoch 31/100\n",
            "10/10 [==============================] - 0s 2ms/step - loss: 0.1759 - accuracy: 0.9406\n",
            "Epoch 32/100\n",
            "10/10 [==============================] - 0s 2ms/step - loss: 0.1469 - accuracy: 0.9536\n",
            "Epoch 33/100\n",
            "10/10 [==============================] - 0s 2ms/step - loss: 0.1769 - accuracy: 0.9447\n",
            "Epoch 34/100\n",
            "10/10 [==============================] - 0s 1ms/step - loss: 0.1278 - accuracy: 0.9639\n",
            "Epoch 35/100\n",
            "10/10 [==============================] - 0s 2ms/step - loss: 0.1822 - accuracy: 0.9476\n",
            "Epoch 36/100\n",
            "10/10 [==============================] - 0s 1ms/step - loss: 0.1398 - accuracy: 0.9562\n",
            "Epoch 37/100\n",
            "10/10 [==============================] - 0s 2ms/step - loss: 0.1863 - accuracy: 0.9319\n",
            "Epoch 38/100\n",
            "10/10 [==============================] - 0s 2ms/step - loss: 0.1665 - accuracy: 0.9293\n",
            "Epoch 39/100\n",
            "10/10 [==============================] - 0s 2ms/step - loss: 0.1592 - accuracy: 0.9487\n",
            "Epoch 40/100\n",
            "10/10 [==============================] - 0s 2ms/step - loss: 0.1602 - accuracy: 0.9502\n",
            "Epoch 41/100\n",
            "10/10 [==============================] - 0s 1ms/step - loss: 0.1338 - accuracy: 0.9503\n",
            "Epoch 42/100\n",
            "10/10 [==============================] - 0s 1ms/step - loss: 0.1668 - accuracy: 0.9483\n",
            "Epoch 43/100\n",
            "10/10 [==============================] - 0s 1ms/step - loss: 0.1958 - accuracy: 0.9373\n",
            "Epoch 44/100\n",
            "10/10 [==============================] - 0s 1ms/step - loss: 0.1556 - accuracy: 0.9511\n",
            "Epoch 45/100\n",
            "10/10 [==============================] - 0s 2ms/step - loss: 0.1578 - accuracy: 0.9425\n",
            "Epoch 46/100\n",
            "10/10 [==============================] - 0s 1ms/step - loss: 0.1439 - accuracy: 0.9500\n",
            "Epoch 47/100\n",
            "10/10 [==============================] - 0s 1ms/step - loss: 0.1820 - accuracy: 0.9263\n",
            "Epoch 48/100\n",
            "10/10 [==============================] - 0s 2ms/step - loss: 0.1361 - accuracy: 0.9492\n",
            "Epoch 49/100\n",
            "10/10 [==============================] - 0s 1ms/step - loss: 0.1640 - accuracy: 0.9367\n",
            "Epoch 50/100\n",
            "10/10 [==============================] - 0s 1ms/step - loss: 0.1633 - accuracy: 0.9415\n",
            "Epoch 51/100\n",
            "10/10 [==============================] - 0s 2ms/step - loss: 0.1777 - accuracy: 0.9335\n",
            "Epoch 52/100\n",
            "10/10 [==============================] - 0s 1ms/step - loss: 0.1818 - accuracy: 0.9409\n",
            "Epoch 53/100\n",
            "10/10 [==============================] - 0s 2ms/step - loss: 0.1500 - accuracy: 0.9491\n",
            "Epoch 54/100\n",
            "10/10 [==============================] - 0s 1ms/step - loss: 0.1483 - accuracy: 0.9459\n",
            "Epoch 55/100\n",
            "10/10 [==============================] - 0s 2ms/step - loss: 0.1632 - accuracy: 0.9461\n",
            "Epoch 56/100\n",
            "10/10 [==============================] - 0s 1ms/step - loss: 0.1425 - accuracy: 0.9500\n",
            "Epoch 57/100\n",
            "10/10 [==============================] - 0s 1ms/step - loss: 0.1482 - accuracy: 0.9449\n",
            "Epoch 58/100\n",
            "10/10 [==============================] - 0s 1ms/step - loss: 0.1345 - accuracy: 0.9414\n",
            "Epoch 59/100\n",
            "10/10 [==============================] - 0s 1ms/step - loss: 0.1397 - accuracy: 0.9511\n",
            "Epoch 60/100\n",
            "10/10 [==============================] - 0s 1ms/step - loss: 0.1516 - accuracy: 0.9512\n",
            "Epoch 61/100\n",
            "10/10 [==============================] - 0s 2ms/step - loss: 0.1611 - accuracy: 0.9414\n",
            "Epoch 62/100\n",
            "10/10 [==============================] - 0s 1ms/step - loss: 0.1434 - accuracy: 0.9541\n",
            "Epoch 63/100\n",
            "10/10 [==============================] - 0s 2ms/step - loss: 0.1570 - accuracy: 0.9482\n",
            "Epoch 64/100\n",
            "10/10 [==============================] - 0s 2ms/step - loss: 0.1636 - accuracy: 0.9487\n",
            "Epoch 65/100\n",
            "10/10 [==============================] - 0s 2ms/step - loss: 0.1422 - accuracy: 0.9391\n",
            "Epoch 66/100\n",
            "10/10 [==============================] - 0s 1ms/step - loss: 0.1512 - accuracy: 0.9477\n",
            "Epoch 67/100\n",
            "10/10 [==============================] - 0s 2ms/step - loss: 0.1341 - accuracy: 0.9513\n",
            "Epoch 68/100\n",
            "10/10 [==============================] - 0s 2ms/step - loss: 0.1566 - accuracy: 0.9389\n",
            "Epoch 69/100\n",
            "10/10 [==============================] - 0s 2ms/step - loss: 0.1385 - accuracy: 0.9551\n",
            "Epoch 70/100\n",
            "10/10 [==============================] - 0s 2ms/step - loss: 0.1568 - accuracy: 0.9417\n",
            "Epoch 71/100\n",
            "10/10 [==============================] - 0s 1ms/step - loss: 0.1558 - accuracy: 0.9515\n",
            "Epoch 72/100\n",
            "10/10 [==============================] - 0s 1ms/step - loss: 0.1477 - accuracy: 0.9408\n",
            "Epoch 73/100\n",
            "10/10 [==============================] - 0s 1ms/step - loss: 0.1483 - accuracy: 0.9455\n",
            "Epoch 74/100\n",
            "10/10 [==============================] - 0s 2ms/step - loss: 0.1193 - accuracy: 0.9650\n",
            "Epoch 75/100\n",
            "10/10 [==============================] - 0s 2ms/step - loss: 0.1630 - accuracy: 0.9369\n",
            "Epoch 76/100\n",
            "10/10 [==============================] - 0s 2ms/step - loss: 0.1830 - accuracy: 0.9287\n",
            "Epoch 77/100\n",
            "10/10 [==============================] - 0s 2ms/step - loss: 0.1549 - accuracy: 0.9482\n",
            "Epoch 78/100\n",
            "10/10 [==============================] - 0s 2ms/step - loss: 0.1516 - accuracy: 0.9466\n",
            "Epoch 79/100\n",
            "10/10 [==============================] - 0s 2ms/step - loss: 0.1552 - accuracy: 0.9448\n",
            "Epoch 80/100\n",
            "10/10 [==============================] - 0s 2ms/step - loss: 0.1378 - accuracy: 0.9514\n",
            "Epoch 81/100\n",
            "10/10 [==============================] - 0s 2ms/step - loss: 0.1741 - accuracy: 0.9361\n",
            "Epoch 82/100\n",
            "10/10 [==============================] - 0s 2ms/step - loss: 0.1406 - accuracy: 0.9526\n",
            "Epoch 83/100\n",
            "10/10 [==============================] - 0s 2ms/step - loss: 0.1335 - accuracy: 0.9443\n",
            "Epoch 84/100\n",
            "10/10 [==============================] - 0s 2ms/step - loss: 0.1444 - accuracy: 0.9421\n",
            "Epoch 85/100\n",
            "10/10 [==============================] - 0s 1ms/step - loss: 0.1283 - accuracy: 0.9490\n",
            "Epoch 86/100\n",
            "10/10 [==============================] - 0s 2ms/step - loss: 0.1512 - accuracy: 0.9434\n",
            "Epoch 87/100\n",
            "10/10 [==============================] - 0s 2ms/step - loss: 0.1257 - accuracy: 0.9434\n",
            "Epoch 88/100\n",
            "10/10 [==============================] - 0s 2ms/step - loss: 0.1497 - accuracy: 0.9405\n",
            "Epoch 89/100\n",
            "10/10 [==============================] - 0s 1ms/step - loss: 0.1423 - accuracy: 0.9443\n",
            "Epoch 90/100\n",
            "10/10 [==============================] - 0s 2ms/step - loss: 0.1782 - accuracy: 0.9350\n",
            "Epoch 91/100\n",
            "10/10 [==============================] - 0s 2ms/step - loss: 0.1551 - accuracy: 0.9340\n",
            "Epoch 92/100\n",
            "10/10 [==============================] - 0s 2ms/step - loss: 0.1506 - accuracy: 0.9425\n",
            "Epoch 93/100\n",
            "10/10 [==============================] - 0s 2ms/step - loss: 0.1515 - accuracy: 0.9446\n",
            "Epoch 94/100\n",
            "10/10 [==============================] - 0s 2ms/step - loss: 0.1253 - accuracy: 0.9517\n",
            "Epoch 95/100\n",
            "10/10 [==============================] - 0s 2ms/step - loss: 0.1405 - accuracy: 0.9475\n",
            "Epoch 96/100\n",
            "10/10 [==============================] - 0s 2ms/step - loss: 0.1456 - accuracy: 0.9403\n",
            "Epoch 97/100\n",
            "10/10 [==============================] - 0s 2ms/step - loss: 0.1685 - accuracy: 0.9387\n",
            "Epoch 98/100\n",
            "10/10 [==============================] - 0s 1ms/step - loss: 0.1464 - accuracy: 0.9387\n",
            "Epoch 99/100\n",
            "10/10 [==============================] - 0s 2ms/step - loss: 0.1524 - accuracy: 0.9412\n",
            "Epoch 100/100\n",
            "10/10 [==============================] - 0s 2ms/step - loss: 0.1538 - accuracy: 0.9516\n"
          ],
          "name": "stdout"
        }
      ]
    },
    {
      "cell_type": "code",
      "metadata": {
        "id": "GAzUOYbJ0Y89"
      },
      "source": [
        "def plot_multiclass_decision_boundary(X, y, model):\n",
        "    x_span = np.linspace(min(X[:,0]) - 0.5, max(X[:,0]) + 0.5)\n",
        "    y_span = np.linspace(min(X[:,1]) - 0.5, max(X[:,1]) + 0.5)\n",
        "    xx, yy = np.meshgrid(x_span, y_span)\n",
        "    grid = np.c_[xx.ravel(), yy.ravel()]\n",
        "    pred_func = model.predict_classes(grid)\n",
        "    z = pred_func.reshape(xx.shape)\n",
        "    plt.contourf(xx, yy, z)"
      ],
      "execution_count": 18,
      "outputs": []
    },
    {
      "cell_type": "code",
      "metadata": {
        "id": "xo0IF9Wn24Zh"
      },
      "source": [
        ""
      ],
      "execution_count": null,
      "outputs": []
    },
    {
      "cell_type": "code",
      "metadata": {
        "colab": {
          "base_uri": "https://localhost:8080/",
          "height": 336
        },
        "id": "iaIwBmQa0qYa",
        "outputId": "1b92dd1b-bf07-43f9-c615-e02daced921e"
      },
      "source": [
        "plot_multiclass_decision_boundary(X, y_cat, model)\n",
        "plt.scatter(X[y==0, 0], X[y==0, 1])\n",
        "plt.scatter(X[y==1, 0], X[y==1, 1])\n",
        "plt.scatter(X[y==2, 0], X[y==2, 1])\n",
        "plt.scatter(X[y==3, 0], X[y==3, 1])\n",
        "plt.scatter(X[y==4, 0], X[y==4, 1])\n",
        "\n",
        "a = 0.5\n",
        "b = 0.8\n",
        "point = np.array([[a, b]])\n",
        "prediction = model.predict_classes(point)\n",
        "plt.plot([a],[b], color = 'yellow', marker = 'o', markersize = 10)\n",
        "print(\"Prediction is :\", prediction )\n",
        "\n"
      ],
      "execution_count": 24,
      "outputs": [
        {
          "output_type": "stream",
          "text": [
            "/usr/local/lib/python3.6/dist-packages/tensorflow/python/keras/engine/sequential.py:450: UserWarning: `model.predict_classes()` is deprecated and will be removed after 2021-01-01. Please use instead:* `np.argmax(model.predict(x), axis=-1)`,   if your model does multi-class classification   (e.g. if it uses a `softmax` last-layer activation).* `(model.predict(x) > 0.5).astype(\"int32\")`,   if your model does binary classification   (e.g. if it uses a `sigmoid` last-layer activation).\n",
            "  warnings.warn('`model.predict_classes()` is deprecated and '\n"
          ],
          "name": "stderr"
        },
        {
          "output_type": "stream",
          "text": [
            "Prediction is : [3]\n"
          ],
          "name": "stdout"
        },
        {
          "output_type": "display_data",
          "data": {
            "image/png": "[encoded data removed]",
            "text/plain": [
              "<Figure size 432x288 with 1 Axes>"
            ]
          },
          "metadata": {
            "tags": [],
            "needs_background": "light"
          }
        }
      ]
    },
    {
      "cell_type": "code",
      "metadata": {
        "id": "h7knyIYh0zAO"
      },
      "source": [
        ""
      ],
      "execution_count": 19,
      "outputs": []
    }
  ]
}